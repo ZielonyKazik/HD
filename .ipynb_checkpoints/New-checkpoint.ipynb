{
 "cells": [
  {
   "cell_type": "code",
   "execution_count": 1,
   "metadata": {
    "collapsed": false
   },
   "outputs": [
    {
     "name": "stderr",
     "output_type": "stream",
     "text": [
      "Vendor:  Continuum Analytics, Inc.\n",
      "Package: mkl\n",
      "Message: trial mode expires in 14 days\n"
     ]
    },
    {
     "name": "stdout",
     "output_type": "stream",
     "text": [
      "Populating the interactive namespace from numpy and matplotlib\n"
     ]
    },
    {
     "name": "stderr",
     "output_type": "stream",
     "text": [
      "ERROR (theano.sandbox.cuda): nvcc compiler not found on $PATH. Check your nvcc installation and try again.\n"
     ]
    }
   ],
   "source": [
    "%pylab inline\n",
    "import matplotlib.pyplot as plt\n",
    "from scipy import stats\n",
    "\n",
    "from theano import function, config, shared, sandbox\n",
    "import theano.tensor as T\n",
    "import numpy\n",
    "import time\n",
    "\n",
    "import theano\n",
    "import theano.printing as TP\n",
    "from IPython.display import SVG\n",
    "def svgdotprint(g):\n",
    "    return SVG(theano.printing.pydotprint(g, return_image=True, format='svg'))\n",
    "import time"
   ]
  },
  {
   "cell_type": "code",
   "execution_count": 2,
   "metadata": {
    "collapsed": true
   },
   "outputs": [],
   "source": [
    "def discrete_prob(arr):\n",
    "    r = random.rand()\n",
    "    cdf = 0\n",
    "    for i in arange(len(arr)):\n",
    "        cdf = cdf + arr[i]\n",
    "        if cdf > r:\n",
    "            return i\n",
    "    return len(arr) -1\n",
    "\n",
    "def generate_bank_accounts(n, start = 0): \n",
    "    x = arange(n) + start\n",
    "    random.shuffle(x)\n",
    "    return x\n",
    "\n",
    "def random_hour(n, center = 16., scale = 3, u_rate = 0.2):\n",
    "    n_norm = floor(n * (1 - u_rate));\n",
    "    u = array(uniform(0, 24, n - n_norm))\n",
    "    norm = array(random.normal(center, scale, n_norm))\n",
    "    return concatenate((norm % 24, u))\n",
    "\n",
    "def transfer_matrix(arr, p = 0.8, n = 10):\n",
    "    div = n*(n+1)/2;\n",
    "    \n",
    "    matrix = np.copy(arr)\n",
    "    random.shuffle(matrix)\n",
    "\n",
    "    for i in arange(n-1):\n",
    "        nrow = np.copy(arr)\n",
    "        random.shuffle(nrow)\n",
    "        matrix = vstack((nrow, matrix))\n",
    "        \n",
    "    matrix = vstack((arr, matrix))\n",
    "    desc = np.reshape(insert(((arange(n)+1)*p/div)[::-1], 0, 1-p), (n+1, 1))\n",
    "    \n",
    "    return hstack((desc, matrix))\n",
    "    \n",
    "def monetize(n, center = 300, shape=2):    \n",
    "    return random.gamma(shape, center, n)\n",
    "\n",
    "def make_random_transactions(accounts_num ,samples_num, susp = None):\n",
    "    \n",
    "    accounts = generate_bank_accounts(accounts_num)\n",
    "    t_m = transfer_matrix(accounts)\n",
    "    \n",
    "    probs = t_m[:,0]\n",
    "    t_m = t_m[:,1:].astype(int)\n",
    "    \n",
    "    \n",
    "    if susp == None:\n",
    "        susp = genereate_suspects(accounts)\n",
    "    \n",
    "    transactions = []\n",
    "    is_legit = [False, -1]\n",
    "    p = np.random.randint(accounts_num, size=samples_num)\n",
    "    print \"a_n: \", t_m.shape[1], \"s_n: \", samples_num\n",
    "    for i in p:\n",
    "        \n",
    "        idx = discrete_prob(probs)\n",
    "        fr = t_m[0][i]\n",
    "        to = t_m[idx,i]\n",
    "        while to == fr:\n",
    "            to = t_m[0][random.randint(accounts_num)]\n",
    "        \n",
    "        if to in susp:\n",
    "            is_legit = vstack(([False, 1], is_legit))\n",
    "        else:\n",
    "            is_legit = vstack(([True, 0], is_legit))\n",
    "            \n",
    "        if transactions == []:\n",
    "            transactions = [fr, to]\n",
    "        else:\n",
    "            transactions = vstack(([fr, to], transactions))\n",
    "        \n",
    "    \n",
    "    hours = reshape(random_hour(samples_num), (samples_num, 1))\n",
    "    monets = reshape(monetize(samples_num), (samples_num, 1))\n",
    "    \n",
    "    transactions = hstack((transactions, hours))\n",
    "    transactions = hstack((transactions, monets))\n",
    "    transactions = hstack((transactions, is_legit[:is_legit.shape[0]-1]))\n",
    "        \n",
    "    return transactions, probs, accounts, susp, t_m\n",
    "        \n",
    "        \n",
    "def genereate_cracs(accounts, cracs_num):\n",
    "    freud = []\n",
    "    f_desc = dict()\n",
    "    for victim in random.choice(accounts, cracs_num):\n",
    "        n = random.randint(5, 15)\n",
    "        h = reshape(random_hour(n, random.randint(4, 23), 0.1, 0), (n, 1))\n",
    "        m = reshape(monetize(n), (n, 1))\n",
    "        c = reshape(random.choice(accounts, n), (n, 1))\n",
    "        d = np.zeros((n, 1)) + 2 \n",
    "        \n",
    "        while victim in c:\n",
    "            c = reshape(random.choice(accounts, n), (n, 1))\n",
    "        \n",
    "        n_freud = hstack((ones((n, 1)) *victim, c, h, m, ones((n, 1)) == 0, d))\n",
    "        if freud == []:\n",
    "            freud = n_freud\n",
    "        else:\n",
    "            freud = vstack((n_freud, freud))\n",
    "        f_desc[victim] = hstack((c, h))\n",
    "\n",
    "    return freud, f_desc\n",
    "    \n",
    "def genereate_suspects(accounts, susp= 1000):\n",
    "    suspects = random.choice(accounts, susp)\n",
    "    return suspects\n",
    "    \n",
    "    \n",
    "\n",
    "def print_hist(x, b= 10, label = \"default\"):\n",
    "    hist, bins = np.histogram(x, bins=b)\n",
    "    center = (bins[:-1] + bins[1:]) / 2\n",
    "    w = 1.*(amax(x) - amin(x))/b\n",
    "    \n",
    "    plt.bar(center, hist, align='center', width=w)\n",
    "    plt.title(label)\n",
    "    plt.show()"
   ]
  },
  {
   "cell_type": "code",
   "execution_count": 4,
   "metadata": {
    "collapsed": false
   },
   "outputs": [
    {
     "name": "stdout",
     "output_type": "stream",
     "text": [
      "a_n:  10000 s_n:  100000\n"
     ]
    },
    {
     "name": "stderr",
     "output_type": "stream",
     "text": [
      "/pio/lscratch/1/os/anaconda/lib/python2.7/site-packages/ipykernel/__main__.py:69: DeprecationWarning: elementwise == comparison failed; this will raise an error in the future.\n",
      "/pio/lscratch/1/os/anaconda/lib/python2.7/site-packages/ipykernel/__main__.py:17: DeprecationWarning: using a non-integer number instead of an integer will result in an error in the future\n",
      "/pio/lscratch/1/os/anaconda/lib/python2.7/site-packages/ipykernel/__main__.py:18: DeprecationWarning: using a non-integer number instead of an integer will result in an error in the future\n"
     ]
    },
    {
     "data": {
      "image/png": "[encoded data removed]",
      "text/plain": [
       "<matplotlib.figure.Figure at 0x7f9ad187c4d0>"
      ]
     },
     "metadata": {},
     "output_type": "display_data"
    }
   ],
   "source": [
    "trans_i, probs, acc, susp, t_matrix = make_random_transactions(10000, 100000)\n",
    "\n",
    "x = array([])\n",
    "\n",
    "for i in arange(10000):\n",
    "    x = append(x, discrete_prob(probs))\n",
    "print_hist(x, label=\"Pdp przelewow na konkretne konta\")"
   ]
  },
  {
   "cell_type": "code",
   "execution_count": 5,
   "metadata": {
    "collapsed": false
   },
   "outputs": [
    {
     "name": "stderr",
     "output_type": "stream",
     "text": [
      "/pio/lscratch/1/os/anaconda/lib/python2.7/site-packages/ipykernel/__main__.py:17: DeprecationWarning: using a non-integer number instead of an integer will result in an error in the future\n",
      "/pio/lscratch/1/os/anaconda/lib/python2.7/site-packages/ipykernel/__main__.py:18: DeprecationWarning: using a non-integer number instead of an integer will result in an error in the future\n",
      "/pio/lscratch/1/os/anaconda/lib/python2.7/site-packages/ipykernel/__main__.py:99: DeprecationWarning: elementwise == comparison failed; this will raise an error in the future.\n"
     ]
    },
    {
     "name": "stdout",
     "output_type": "stream",
     "text": [
      "(100000, 6) (9585, 6)\n",
      "(109585, 6)\n",
      "[[  7.32700000e+03   5.69000000e+03   1.99370681e+01   1.38061495e+03\n",
      "    0.00000000e+00   2.00000000e+00]\n",
      " [  7.32700000e+03   8.38600000e+03   2.00490053e+01   7.39824417e+01\n",
      "    0.00000000e+00   2.00000000e+00]\n",
      " [  7.32700000e+03   6.61300000e+03   1.99233943e+01   1.10747635e+03\n",
      "    0.00000000e+00   2.00000000e+00]\n",
      " ..., \n",
      " [  8.44400000e+03   5.52600000e+03   1.20369271e+01   4.16677299e+02\n",
      "    1.00000000e+00   0.00000000e+00]\n",
      " [  9.62000000e+03   8.22200000e+03   9.16110605e+00   6.73503823e+02\n",
      "    0.00000000e+00   1.00000000e+00]\n",
      " [  9.01800000e+03   7.57800000e+03   2.31710713e+01   2.81671216e+01\n",
      "    1.00000000e+00   0.00000000e+00]]\n"
     ]
    },
    {
     "data": {
      "image/png": "[encoded data removed]",
      "text/plain": [
       "<matplotlib.figure.Figure at 0x7f9ad187cb50>"
      ]
     },
     "metadata": {},
     "output_type": "display_data"
    }
   ],
   "source": [
    "cracs, f_desc = genereate_cracs(acc, 1000)\n",
    "\n",
    "print trans_i.shape, cracs.shape\n",
    "trans_c = array(vstack((cracs, trans_i)))\n",
    "print trans_c.shape\n",
    "\n",
    "print trans_c\n",
    "print_hist(trans_c[:, 4], label=\"Frauds\")"
   ]
  },
  {
   "cell_type": "code",
   "execution_count": 7,
   "metadata": {
    "collapsed": false
   },
   "outputs": [
    {
     "name": "stdout",
     "output_type": "stream",
     "text": [
      "(60000, 6) (49585, 6)\n"
     ]
    },
    {
     "data": {
      "image/png": "[encoded data removed]",
      "text/plain": [
       "<matplotlib.figure.Figure at 0x7f9ad0f75b50>"
      ]
     },
     "metadata": {},
     "output_type": "display_data"
    }
   ],
   "source": [
    "import pandas as pd\n",
    "\n",
    "trans_c = array(trans_c)\n",
    "np.random.shuffle(trans_c)\n",
    "trans = pd.DataFrame.from_items([('from', trans_c[:,0].astype('i4')), ('to', trans_c[:,1].astype('i4')), \n",
    "                                ('time', trans_c[:,2].astype('f4')), ('money', trans_c[:,3].astype('f4')), \n",
    "                                ('valid', trans_c[:,4].astype('b1')), ('desc_', trans_c[:,5].astype('i4'))])\n",
    "\n",
    "\n",
    "train_set = trans[:60000]\n",
    "test_set = trans[60000:]\n",
    "\n",
    "print train_set.shape, test_set.shape\n",
    "print_hist(trans_c[:, 2], label=\"Godziny\")"
   ]
  },
  {
   "cell_type": "code",
   "execution_count": 8,
   "metadata": {
    "collapsed": false
   },
   "outputs": [
    {
     "name": "stdout",
     "output_type": "stream",
     "text": [
      "723 20\n"
     ]
    },
    {
     "name": "stderr",
     "output_type": "stream",
     "text": [
      "/pio/lscratch/1/os/anaconda/lib/python2.7/site-packages/ipykernel/__main__.py:17: DeprecationWarning: using a non-integer number instead of an integer will result in an error in the future\n",
      "/pio/lscratch/1/os/anaconda/lib/python2.7/site-packages/ipykernel/__main__.py:18: DeprecationWarning: using a non-integer number instead of an integer will result in an error in the future\n"
     ]
    },
    {
     "data": {
      "image/png": "[encoded data removed]",
      "text/plain": [
       "<matplotlib.figure.Figure at 0x7f9ad16fc890>"
      ]
     },
     "metadata": {},
     "output_type": "display_data"
    }
   ],
   "source": [
    "n = random.randint(500, 1500)\n",
    "c = random.randint(0, 23)\n",
    "print n, c\n",
    "\n",
    "print_hist(random_hour(n, c, 1), label=\"wlamanie na konto\")"
   ]
  },
  {
   "cell_type": "code",
   "execution_count": 10,
   "metadata": {
    "collapsed": false
   },
   "outputs": [
    {
     "data": {
      "image/png": "[encoded data removed]",
      "text/plain": [
       "<matplotlib.figure.Figure at 0x7f9ad0f33a10>"
      ]
     },
     "metadata": {},
     "output_type": "display_data"
    }
   ],
   "source": [
    "print_hist(trans_c[:, 3], label=\"przelane pieniadze\")"
   ]
  },
  {
   "cell_type": "code",
   "execution_count": 77,
   "metadata": {
    "collapsed": true
   },
   "outputs": [],
   "source": [
    "class Transaction():\n",
    "    def __init__(self, n_account, time):\n",
    "        self.n_account = n_account\n",
    "        self.time = time\n",
    "\n",
    "class Account():\n",
    "    def __init__(self, number, out_t, in_t):\n",
    "        self.in_trans = in_t\n",
    "        self.out_trans = out_t\n",
    "        self.number = number\n",
    "        \n",
    "    def __str__(self):\n",
    "        return \"To: \\n\" + self.in_trans.__str__ () + \"\\nFrom: \\n\" +self.out_trans.__str__ ()\n",
    "    \n",
    "    def isVictim(self, acc, v_p = 5):\n",
    "        t = self.out_trans[~self.out_trans['to'].isin(acc)]\n",
    "        if t[t['valid'] == False].count()[0] > v_p:\n",
    "            return True\n",
    "        return False\n",
    "        \n",
    "    def is_crack(self):\n",
    "        if self.in_trans['valid'].mean() == 0:\n",
    "            return True\n",
    "        return False\n",
    "    \n",
    "    def check(self, f, p=False):\n",
    "        if p:\n",
    "            print self.out_trans\n",
    "        t = self.out_trans[~self.out_trans['to'].isin(f)]\n",
    "        t = t[t['valid'] == False]\n",
    "        if p:\n",
    "            print t\n",
    "        return t['time'].std()\n",
    "    \n",
    "    def removeByhour(self, t):\n",
    "        m = t.mean()\n",
    "        s = t.std()\n",
    "        return t[(t['time'] > s - m)  and t['time'] < s + m ]\n",
    "    \n",
    "    def get_in(self):\n",
    "        return self.in_trans\n",
    "    \n",
    "    def get_out(self):\n",
    "        return self.out_trans\n",
    "    \n",
    "    def get_number(self):\n",
    "        return self.number\n",
    "        \n",
    "def makeAccounts(trans):\n",
    "    account = dict()\n",
    "    for i in arange(10000):\n",
    "        account[i] = Account(i, \n",
    "                             trans[trans['from'] == i], \n",
    "                             trans[trans['to'] == i])\n",
    "    return account"
   ]
  },
  {
   "cell_type": "code",
   "execution_count": 78,
   "metadata": {
    "collapsed": true
   },
   "outputs": [],
   "source": [
    "accounts = makeAccounts(train_set)"
   ]
  },
  {
   "cell_type": "code",
   "execution_count": 92,
   "metadata": {
    "collapsed": true
   },
   "outputs": [],
   "source": [
    "def train(train_set, accounts):\n",
    "    t_mean = train_set['time'].mean()\n",
    "    t_std = train_set['time'].std()\n",
    "    \n",
    "    susp = set()\n",
    "    stds = array([])\n",
    "    for i in accounts.keys():\n",
    "        a = accounts[i]\n",
    "        if(a.is_crack()):\n",
    "            susp.add(a.get_number())\n",
    "            \n",
    "    print len(susp)\n",
    "    for i in accounts.keys():\n",
    "        a = accounts[i]\n",
    "        if(a.isVictim(susp)):\n",
    "            std = a.check(susp)\n",
    "            if isnan(std):\n",
    "                print a\n",
    "            stds = insert(stds, 0, std)\n",
    "    return list(susp), stds\n",
    "\n",
    "def checkSusp(susp, p = False):\n",
    "    corr = 0\n",
    "    for a in susp:\n",
    "        if 1 in accounts[a].get_in()['desc_'].unique():\n",
    "            corr = corr +1\n",
    "        elif p:\n",
    "            print accounts[a]\n",
    "    return len(susp), corr            \n",
    "\n",
    "def find_frauds(accounts, susp, p_s, seprete = False):\n",
    "    by_susp = set()\n",
    "    brake_in = set()\n",
    "    for i in accounts.keys():\n",
    "        a = accounts[i]\n",
    "        if i in susp:\n",
    "            by_susp = by_susp.union(a.get_in().index)\n",
    "        if a.isVictim(susp) :\n",
    "            i = a.get_out()\n",
    "            t = i.iloc[array([i[(i['time'] < t + p_s) & (i['time'] > t - p_s)].count()[0] for t in i['time']]).argmax()]['time']\n",
    "            brake_in = brake_in.union(i[(i['time'] < t + p_s) & (i['time'] > t - p_s)].index)\n",
    "    if seprete:\n",
    "        return by_susp, brake_in\n",
    "    else:\n",
    "        return by_susp.union(brake_in)\n",
    "            \n",
    "    \n",
    "def predict(susp, std, trans_set):\n",
    "    a = makeAccounts(trans_set)\n",
    "    f_s, f_b = find_frauds(a, susp, std_param, True)\n",
    "    return f_s, f_b, a\n",
    "    \n",
    "def printResult(i_set, frauds):\n",
    "    f = set(i_set[i_set['valid'] == False].index)\n",
    "    uf = set(i_set[i_set['valid'] == True].index)\n",
    "    poss_c = len(f.intersection(frauds))\n",
    "    poss_f = len(f.difference(frauds))\n",
    "    neg_c = len(uf.difference(frauds))\n",
    "    neg_f = len(uf.intersection(frauds))\n",
    "    print 'Liczba rzeczywistych oszustw: ', len(f)\n",
    "    print 'Liczba swierdzonych oszustw: ', len(frauds)\n",
    "    print len(f.intersection(frauds))/ float(len(f)) * 100, \"% - procent poprawnie przwidzianych oszustw\"\n",
    "    print 100 - len(f.intersection(frauds))/ float(len(f)) * 100, \"% - procent blednie przwidzianych oszustw\"\n",
    "    print len(uf.difference(frauds))/ float(len(uf)) * 100, \"% - procent przewidzianych poprawnych transakcji\"\n",
    "    print (len(uf.difference(frauds)) + len(f.intersection(frauds))) / float(len(f) + len( uf)) * 100, \"% - POPRAWNOSC\"\n",
    "    return poss_c, poss_f, neg_c, neg_f\n",
    "\n",
    "def printBar(pair1, pair2, labels=None, title=\"\")\n",
    "    fig = plt.figure()\n",
    "    ax = fig.add_subplot(111)\n",
    "\n",
    "    b1 = ax.bar(array([0,4]), [train_poss_c, train_poss_f], width=1, color='g')\n",
    "    b2 = ax.bar(array([1,5]), [test_poss_c, test_poss_f],  width=1, color='b')\n",
    "    if labels != None: \n",
    "        ax.legend( (b1[0], b2[0]), labels )\n",
    "    ax.set_xticks([1, 5])\n",
    "    ax.set_title('')\n",
    "    ax.set_xticklabels(['corr', 'fail'])\n",
    "\n",
    "\n",
    "    plt.show()"
   ]
  },
  {
   "cell_type": "code",
   "execution_count": 85,
   "metadata": {
    "collapsed": false
   },
   "outputs": [
    {
     "name": "stdout",
     "output_type": "stream",
     "text": [
      "944\n"
     ]
    }
   ],
   "source": [
    "susp, stds = train(train_set, accounts)\n",
    "\n",
    "std_param = stds.mean()"
   ]
  },
  {
   "cell_type": "code",
   "execution_count": 91,
   "metadata": {
    "collapsed": false
   },
   "outputs": [
    {
     "name": "stdout",
     "output_type": "stream",
     "text": [
      "5612 2873 8295\n"
     ]
    }
   ],
   "source": [
    "by_s, by_b = find_frauds(accounts, susp, std_param, True)\n",
    "print len(by_s), len(by_b), len(by_s.union(by_b))\n",
    "frauds = by_s.union(by_b)\n",
    "f_s, f_b, a = predict(susp, std_param, test_set)"
   ]
  },
  {
   "cell_type": "code",
   "execution_count": 126,
   "metadata": {
    "collapsed": false
   },
   "outputs": [
    {
     "name": "stdout",
     "output_type": "stream",
     "text": [
      "TRAIN SET\n",
      "Liczba rzeczywistych oszustw:  10377\n",
      "Liczba swierdzonych oszustw:  8295\n",
      "78.5390768045 % - procent poprawnie przwidzianych oszustw\n",
      "21.4609231955 % - procent blednie przwidzianych oszustw\n",
      "99.7077967878 % - procent przewidzianych poprawnych transakcji\n",
      "96.0466666667 % - POPRAWNOSC\n",
      "TEST_SET\n",
      "Liczba rzeczywistych oszustw:  8653\n",
      "Liczba swierdzonych oszustw:  6315\n",
      "71.9865942448 % - procent poprawnie przwidzianych oszustw\n",
      "28.0134057552 % - procent blednie przwidzianych oszustw\n",
      "99.7898954363 % - procent przewidzianych poprawnych transakcji\n",
      "94.9379852778 % - POPRAWNOSC\n"
     ]
    }
   ],
   "source": [
    "print \"TRAIN SET\"\n",
    "train_poss_c, train_poss_f, train_neg_c, train_neg_f = printResult(train_set, frauds)\n",
    "print \"TEST_SET\"\n",
    "test_poss_c, test_poss_f, test_neg_c, test_neg_f = printResult(test_set, f_s.union(f_b))"
   ]
  },
  {
   "cell_type": "code",
   "execution_count": 127,
   "metadata": {
    "collapsed": false
   },
   "outputs": [
    {
     "name": "stdout",
     "output_type": "stream",
     "text": [
      "[0, 1] [8150, 2227]\n"
     ]
    },
    {
     "data": {
      "image/png": "[encoded data removed]",
      "text/plain": [
       "<matplotlib.figure.Figure at 0x7f9ab10f5c10>"
      ]
     },
     "metadata": {},
     "output_type": "display_data"
    }
   ],
   "source": [
    "def printBar(pair1, pair2, labels=None, title=\"\")\n",
    "    fig = plt.figure()\n",
    "    ax = fig.add_subplot(111)\n",
    "\n",
    "    b1 = ax.bar(array([0,4]), [train_poss_c, train_poss_f], width=1, color='g')\n",
    "    b2 = ax.bar(array([1,5]), [test_poss_c, test_poss_f],  width=1, color='b')\n",
    "    if labels != None: \n",
    "        ax.legend( (b1[0], b2[0]), labels )\n",
    "    ax.set_xticks([1, 5])\n",
    "    ax.set_title('')\n",
    "    ax.set_xticklabels(['corr', 'fail'])\n",
    "\n",
    "\n",
    "    plt.show()"
   ]
  },
  {
   "cell_type": "code",
   "execution_count": null,
   "metadata": {
    "collapsed": true
   },
   "outputs": [],
   "source": []
  }
 ],
 "metadata": {
  "kernelspec": {
   "display_name": "Python 2",
   "language": "python",
   "name": "python2"
  },
  "language_info": {
   "codemirror_mode": {
    "name": "ipython",
    "version": 2
   },
   "file_extension": ".py",
   "mimetype": "text/x-python",
   "name": "python",
   "nbconvert_exporter": "python",
   "pygments_lexer": "ipython2",
   "version": "2.7.11"
  }
 },
 "nbformat": 4,
 "nbformat_minor": 0
}
